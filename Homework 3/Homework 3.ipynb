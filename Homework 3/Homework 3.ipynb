{
 "cells": [
  {
   "cell_type": "code",
   "execution_count": 33,
   "metadata": {},
   "outputs": [],
   "source": [
    "import numpy as np\n",
    "import pandas as pd\n",
    "import pylab as pl\n",
    "import matplotlib.pyplot as plt\n",
    "plt.style.use('ggplot')\n",
    "%matplotlib inline\n",
    "import seaborn as sns\n",
    "\n",
    "from sklearn.tree import DecisionTreeClassifier\n",
    "from sklearn.ensemble import RandomForestClassifier\n",
    "from sklearn.model_selection import train_test_split\n",
    "from sklearn.metrics import accuracy_score\n",
    "\n",
    "from sklearn.preprocessing import LabelEncoder\n",
    "from sklearn.preprocessing import OneHotEncoder\n"
   ]
  },
  {
   "cell_type": "code",
   "execution_count": 34,
   "metadata": {},
   "outputs": [
    {
     "name": "stdout",
     "output_type": "stream",
     "text": [
      "(22223, 13)\n",
      "<class 'pandas.core.frame.DataFrame'>\n",
      "RangeIndex: 22223 entries, 0 to 22222\n",
      "Data columns (total 13 columns):\n",
      "ID                 22223 non-null int64\n",
      "DemAffl            21138 non-null float64\n",
      "DemAge             20715 non-null float64\n",
      "DemCluster         21549 non-null float64\n",
      "DemClusterGroup    21549 non-null object\n",
      "DemGender          19711 non-null object\n",
      "DemReg             21758 non-null object\n",
      "DemTVReg           21758 non-null object\n",
      "PromClass          22223 non-null object\n",
      "PromSpend          22223 non-null float64\n",
      "PromTime           21942 non-null float64\n",
      "TargetBuy          22223 non-null int64\n",
      "TargetAmt          22223 non-null int64\n",
      "dtypes: float64(5), int64(3), object(5)\n",
      "memory usage: 2.2+ MB\n",
      "None\n"
     ]
    }
   ],
   "source": [
    "df=pd.read_csv(\"C:/Users/User/Desktop/dataframe/dataset/ORGANICS.csv\",encoding=\"cp1251\")\n",
    "print(df.shape) \n",
    "print(df.info())\n"
   ]
  },
  {
   "cell_type": "code",
   "execution_count": 43,
   "metadata": {},
   "outputs": [],
   "source": [
    "df = df.fillna(df.median(axis=0), axis=0)\n",
    "x=df[['DemAffl',  'DemAge', 'DemCluster', 'PromSpend', 'PromTime']]\n",
    "y=df.values[::,11]\n"
   ]
  },
  {
   "cell_type": "code",
   "execution_count": 49,
   "metadata": {},
   "outputs": [
    {
     "data": {
      "text/plain": [
       "DecisionTreeClassifier(class_weight=None, criterion='entropy', max_depth=5,\n",
       "                       max_features=None, max_leaf_nodes=None,\n",
       "                       min_impurity_decrease=0.0, min_impurity_split=None,\n",
       "                       min_samples_leaf=1, min_samples_split=2,\n",
       "                       min_weight_fraction_leaf=0.0, presort=False,\n",
       "                       random_state=0, splitter='best')"
      ]
     },
     "execution_count": 49,
     "metadata": {},
     "output_type": "execute_result"
    }
   ],
   "source": [
    "X_train, X_test, y_train, y_test = train_test_split(x, y, test_size=0.3)\n",
    "\n",
    "y_train = y_train.astype(int)\n",
    "tree=DecisionTreeClassifier(max_depth=5, criterion = \"entropy\", random_state=0)\n",
    "tree.fit(X_train, y_train)\n"
   ]
  },
  {
   "cell_type": "code",
   "execution_count": null,
   "metadata": {},
   "outputs": [],
   "source": [
    "\n"
   ]
  },
  {
   "cell_type": "code",
   "execution_count": 52,
   "metadata": {},
   "outputs": [
    {
     "data": {
      "text/plain": [
       "0.8050269992285934"
      ]
     },
     "execution_count": 52,
     "metadata": {},
     "output_type": "execute_result"
    }
   ],
   "source": [
    "y_train = y_train.astype(int)\n",
    "accuracy_score(y_train, tree.predict(X_train))\n"
   ]
  },
  {
   "cell_type": "code",
   "execution_count": 53,
   "metadata": {},
   "outputs": [
    {
     "data": {
      "text/plain": [
       "0.7984100794960252"
      ]
     },
     "execution_count": 53,
     "metadata": {},
     "output_type": "execute_result"
    }
   ],
   "source": [
    "tree.score(X_test,y_test) "
   ]
  },
  {
   "cell_type": "code",
   "execution_count": 57,
   "metadata": {},
   "outputs": [],
   "source": [
    "#визуализация\n",
    "\n",
    "from sklearn.tree import export_graphviz\n",
    "\n",
    "import subprocess\n",
    "\n",
    "export_graphviz(tree, out_file='C:/Users/User/Desktop/dataframe/Homework 3/Organics_tree.dot', \n",
    "               rounded = True, proportion = False, \n",
    "                precision = 2, filled = True)\n",
    "\n",
    "import pydot \n",
    "(graph, ) = pydot.graph_from_dot_file('C:/Users/User/Desktop/dataframe/Homework 3/Organics_tree.dot')\n",
    "\n",
    "#graph.write_png('Organics_tre.png')\n"
   ]
  },
  {
   "cell_type": "code",
   "execution_count": 62,
   "metadata": {},
   "outputs": [
    {
     "data": {
      "text/plain": [
       "0.7780110994450278"
      ]
     },
     "execution_count": 62,
     "metadata": {},
     "output_type": "execute_result"
    }
   ],
   "source": [
    "df = df.fillna(df.median(axis=0), axis=0)\n",
    "x=df[['DemAffl',  'DemAge', 'DemCluster', 'PromSpend', 'PromTime']]\n",
    "y=df.values[::,11]\n",
    "\n",
    "X_train, X_test, y_train, y_test = train_test_split(x, y, test_size=0.3)\n",
    "\n",
    "y_train = y_train.astype(int)\n",
    "tree=DecisionTreeClassifier(max_depth=10, min_samples_leaf = 1, random_state=0)\n",
    "tree.fit(X_train, y_train)\n",
    "\n",
    "y_test = y_test.astype(int)\n",
    "accuracy_score(y_test, tree.predict(X_test))"
   ]
  },
  {
   "cell_type": "code",
   "execution_count": 63,
   "metadata": {},
   "outputs": [
    {
     "data": {
      "text/plain": [
       "0.7552122393880306"
      ]
     },
     "execution_count": 63,
     "metadata": {},
     "output_type": "execute_result"
    }
   ],
   "source": [
    "df = df.fillna(df.median(axis=0), axis=0)\n",
    "x=df[['DemAffl',  'DemAge', 'DemCluster', 'PromSpend', 'PromTime']]\n",
    "y=df.values[::,11]\n",
    "\n",
    "X_train, X_test, y_train, y_test = train_test_split(x, y, test_size=0.3)\n",
    "\n",
    "y_train = y_train.astype(int)\n",
    "tree=DecisionTreeClassifier(max_depth=15, min_samples_leaf = 1, random_state=0)\n",
    "tree.fit(X_train, y_train)\n",
    "\n",
    "y_test = y_test.astype(int)\n",
    "accuracy_score(y_test, tree.predict(X_test))"
   ]
  },
  {
   "cell_type": "code",
   "execution_count": 65,
   "metadata": {},
   "outputs": [
    {
     "data": {
      "text/plain": [
       "0.7982600869956502"
      ]
     },
     "execution_count": 65,
     "metadata": {},
     "output_type": "execute_result"
    }
   ],
   "source": [
    "df = df.fillna(df.median(axis=0), axis=0)\n",
    "x=df[['DemAffl',  'DemAge', 'DemCluster', 'PromSpend', 'PromTime']]\n",
    "y=df.values[::,11]\n",
    "\n",
    "X_train, X_test, y_train, y_test = train_test_split(x, y, test_size=0.3)\n",
    "\n",
    "y_train = y_train.astype(int)\n",
    "tree=DecisionTreeClassifier(max_depth=4, min_samples_leaf = 1, random_state=0)\n",
    "tree.fit(X_train, y_train)\n",
    "\n",
    "y_test = y_test.astype(int)\n",
    "accuracy_score(y_test, tree.predict(X_test))"
   ]
  },
  {
   "cell_type": "code",
   "execution_count": 67,
   "metadata": {},
   "outputs": [
    {
     "data": {
      "text/plain": [
       "0.7904604769761512"
      ]
     },
     "execution_count": 67,
     "metadata": {},
     "output_type": "execute_result"
    }
   ],
   "source": [
    "df = df.fillna(df.median(axis=0), axis=0)\n",
    "x=df[['DemAffl',  'DemAge', 'DemCluster', 'PromSpend', 'PromTime']]\n",
    "y=df.values[::,11]\n",
    "\n",
    "X_train, X_test, y_train, y_test = train_test_split(x, y, test_size=0.3)\n",
    "\n",
    "y_train = y_train.astype(int)\n",
    "tree=DecisionTreeClassifier(max_depth=4, min_samples_leaf = 15, random_state=0)\n",
    "tree.fit(X_train, y_train)\n",
    "\n",
    "y_test = y_test.astype(int)\n",
    "accuracy_score(y_test, tree.predict(X_test))"
   ]
  },
  {
   "cell_type": "code",
   "execution_count": 68,
   "metadata": {},
   "outputs": [
    {
     "data": {
      "text/plain": [
       "0.7931603419829009"
      ]
     },
     "execution_count": 68,
     "metadata": {},
     "output_type": "execute_result"
    }
   ],
   "source": [
    "df = df.fillna(df.median(axis=0), axis=0)\n",
    "x=df[['DemAffl',  'DemAge', 'DemCluster', 'PromSpend', 'PromTime']]\n",
    "y=df.values[::,11]\n",
    "\n",
    "X_train, X_test, y_train, y_test = train_test_split(x, y, test_size=0.3)\n",
    "\n",
    "y_train = y_train.astype(int)\n",
    "tree=DecisionTreeClassifier(max_depth=4, min_samples_leaf = 2, random_state=0)\n",
    "tree.fit(X_train, y_train)\n",
    "\n",
    "y_test = y_test.astype(int)\n",
    "accuracy_score(y_test, tree.predict(X_test))"
   ]
  },
  {
   "cell_type": "markdown",
   "metadata": {},
   "source": [
    "Видим, что глубина вляет на точность. Чем больше глубина, тем ниже точность. min_samples_leaf существенно не влияет."
   ]
  },
  {
   "cell_type": "code",
   "execution_count": 70,
   "metadata": {},
   "outputs": [
    {
     "name": "stdout",
     "output_type": "stream",
     "text": [
      "['DemClusterGroup', 'DemGender', 'DemReg', 'DemTVReg', 'PromClass']\n"
     ]
    },
    {
     "data": {
      "text/html": [
       "<div>\n",
       "<style scoped>\n",
       "    .dataframe tbody tr th:only-of-type {\n",
       "        vertical-align: middle;\n",
       "    }\n",
       "\n",
       "    .dataframe tbody tr th {\n",
       "        vertical-align: top;\n",
       "    }\n",
       "\n",
       "    .dataframe thead th {\n",
       "        text-align: right;\n",
       "    }\n",
       "</style>\n",
       "<table border=\"1\" class=\"dataframe\">\n",
       "  <thead>\n",
       "    <tr style=\"text-align: right;\">\n",
       "      <th></th>\n",
       "      <th>ID</th>\n",
       "      <th>DemAffl</th>\n",
       "      <th>DemAge</th>\n",
       "      <th>DemCluster</th>\n",
       "      <th>DemClusterGroup</th>\n",
       "      <th>DemGender</th>\n",
       "      <th>DemReg</th>\n",
       "      <th>DemTVReg</th>\n",
       "      <th>PromClass</th>\n",
       "      <th>PromSpend</th>\n",
       "      <th>...</th>\n",
       "      <th>DemTVReg=Ulster</th>\n",
       "      <th>DemTVReg=S West</th>\n",
       "      <th>DemTVReg=Yorkshire</th>\n",
       "      <th>DemTVReg=Border</th>\n",
       "      <th>DemTVReg=N Scot</th>\n",
       "      <th>PromClassN</th>\n",
       "      <th>PromClass=Gold</th>\n",
       "      <th>PromClass=Silver</th>\n",
       "      <th>PromClass=Tin</th>\n",
       "      <th>PromClass=Platinum</th>\n",
       "    </tr>\n",
       "  </thead>\n",
       "  <tbody>\n",
       "    <tr>\n",
       "      <td>0</td>\n",
       "      <td>140</td>\n",
       "      <td>10.0</td>\n",
       "      <td>76.0</td>\n",
       "      <td>16.0</td>\n",
       "      <td>C</td>\n",
       "      <td>U</td>\n",
       "      <td>Midlands</td>\n",
       "      <td>Wales &amp; West</td>\n",
       "      <td>Gold</td>\n",
       "      <td>16000.00</td>\n",
       "      <td>...</td>\n",
       "      <td>0</td>\n",
       "      <td>0</td>\n",
       "      <td>0</td>\n",
       "      <td>0</td>\n",
       "      <td>0</td>\n",
       "      <td>0</td>\n",
       "      <td>1</td>\n",
       "      <td>0</td>\n",
       "      <td>0</td>\n",
       "      <td>0</td>\n",
       "    </tr>\n",
       "    <tr>\n",
       "      <td>1</td>\n",
       "      <td>620</td>\n",
       "      <td>4.0</td>\n",
       "      <td>49.0</td>\n",
       "      <td>35.0</td>\n",
       "      <td>D</td>\n",
       "      <td>U</td>\n",
       "      <td>Midlands</td>\n",
       "      <td>Wales &amp; West</td>\n",
       "      <td>Gold</td>\n",
       "      <td>6000.00</td>\n",
       "      <td>...</td>\n",
       "      <td>0</td>\n",
       "      <td>0</td>\n",
       "      <td>0</td>\n",
       "      <td>0</td>\n",
       "      <td>0</td>\n",
       "      <td>0</td>\n",
       "      <td>1</td>\n",
       "      <td>0</td>\n",
       "      <td>0</td>\n",
       "      <td>0</td>\n",
       "    </tr>\n",
       "    <tr>\n",
       "      <td>2</td>\n",
       "      <td>868</td>\n",
       "      <td>5.0</td>\n",
       "      <td>70.0</td>\n",
       "      <td>27.0</td>\n",
       "      <td>D</td>\n",
       "      <td>F</td>\n",
       "      <td>Midlands</td>\n",
       "      <td>Wales &amp; West</td>\n",
       "      <td>Silver</td>\n",
       "      <td>0.02</td>\n",
       "      <td>...</td>\n",
       "      <td>0</td>\n",
       "      <td>0</td>\n",
       "      <td>0</td>\n",
       "      <td>0</td>\n",
       "      <td>0</td>\n",
       "      <td>2</td>\n",
       "      <td>0</td>\n",
       "      <td>1</td>\n",
       "      <td>0</td>\n",
       "      <td>0</td>\n",
       "    </tr>\n",
       "    <tr>\n",
       "      <td>3</td>\n",
       "      <td>1120</td>\n",
       "      <td>10.0</td>\n",
       "      <td>65.0</td>\n",
       "      <td>51.0</td>\n",
       "      <td>F</td>\n",
       "      <td>M</td>\n",
       "      <td>Midlands</td>\n",
       "      <td>Midlands</td>\n",
       "      <td>Tin</td>\n",
       "      <td>0.01</td>\n",
       "      <td>...</td>\n",
       "      <td>0</td>\n",
       "      <td>0</td>\n",
       "      <td>0</td>\n",
       "      <td>0</td>\n",
       "      <td>0</td>\n",
       "      <td>3</td>\n",
       "      <td>0</td>\n",
       "      <td>0</td>\n",
       "      <td>1</td>\n",
       "      <td>0</td>\n",
       "    </tr>\n",
       "    <tr>\n",
       "      <td>4</td>\n",
       "      <td>2313</td>\n",
       "      <td>11.0</td>\n",
       "      <td>68.0</td>\n",
       "      <td>4.0</td>\n",
       "      <td>A</td>\n",
       "      <td>F</td>\n",
       "      <td>Midlands</td>\n",
       "      <td>Midlands</td>\n",
       "      <td>Tin</td>\n",
       "      <td>0.01</td>\n",
       "      <td>...</td>\n",
       "      <td>0</td>\n",
       "      <td>0</td>\n",
       "      <td>0</td>\n",
       "      <td>0</td>\n",
       "      <td>0</td>\n",
       "      <td>3</td>\n",
       "      <td>0</td>\n",
       "      <td>0</td>\n",
       "      <td>1</td>\n",
       "      <td>0</td>\n",
       "    </tr>\n",
       "    <tr>\n",
       "      <td>...</td>\n",
       "      <td>...</td>\n",
       "      <td>...</td>\n",
       "      <td>...</td>\n",
       "      <td>...</td>\n",
       "      <td>...</td>\n",
       "      <td>...</td>\n",
       "      <td>...</td>\n",
       "      <td>...</td>\n",
       "      <td>...</td>\n",
       "      <td>...</td>\n",
       "      <td>...</td>\n",
       "      <td>...</td>\n",
       "      <td>...</td>\n",
       "      <td>...</td>\n",
       "      <td>...</td>\n",
       "      <td>...</td>\n",
       "      <td>...</td>\n",
       "      <td>...</td>\n",
       "      <td>...</td>\n",
       "      <td>...</td>\n",
       "      <td>...</td>\n",
       "    </tr>\n",
       "    <tr>\n",
       "      <td>22218</td>\n",
       "      <td>52834058</td>\n",
       "      <td>13.0</td>\n",
       "      <td>65.0</td>\n",
       "      <td>9.0</td>\n",
       "      <td>B</td>\n",
       "      <td>F</td>\n",
       "      <td>South East</td>\n",
       "      <td>London</td>\n",
       "      <td>Silver</td>\n",
       "      <td>1500.00</td>\n",
       "      <td>...</td>\n",
       "      <td>0</td>\n",
       "      <td>0</td>\n",
       "      <td>0</td>\n",
       "      <td>0</td>\n",
       "      <td>0</td>\n",
       "      <td>2</td>\n",
       "      <td>0</td>\n",
       "      <td>1</td>\n",
       "      <td>0</td>\n",
       "      <td>0</td>\n",
       "    </tr>\n",
       "    <tr>\n",
       "      <td>22219</td>\n",
       "      <td>52834376</td>\n",
       "      <td>15.0</td>\n",
       "      <td>73.0</td>\n",
       "      <td>34.0</td>\n",
       "      <td>D</td>\n",
       "      <td>U</td>\n",
       "      <td>South East</td>\n",
       "      <td>S &amp; S East</td>\n",
       "      <td>Gold</td>\n",
       "      <td>6053.06</td>\n",
       "      <td>...</td>\n",
       "      <td>0</td>\n",
       "      <td>0</td>\n",
       "      <td>0</td>\n",
       "      <td>0</td>\n",
       "      <td>0</td>\n",
       "      <td>0</td>\n",
       "      <td>1</td>\n",
       "      <td>0</td>\n",
       "      <td>0</td>\n",
       "      <td>0</td>\n",
       "    </tr>\n",
       "    <tr>\n",
       "      <td>22220</td>\n",
       "      <td>52837057</td>\n",
       "      <td>9.0</td>\n",
       "      <td>70.0</td>\n",
       "      <td>15.0</td>\n",
       "      <td>B</td>\n",
       "      <td>F</td>\n",
       "      <td>North</td>\n",
       "      <td>Yorkshire</td>\n",
       "      <td>Gold</td>\n",
       "      <td>6000.00</td>\n",
       "      <td>...</td>\n",
       "      <td>0</td>\n",
       "      <td>0</td>\n",
       "      <td>1</td>\n",
       "      <td>0</td>\n",
       "      <td>0</td>\n",
       "      <td>0</td>\n",
       "      <td>1</td>\n",
       "      <td>0</td>\n",
       "      <td>0</td>\n",
       "      <td>0</td>\n",
       "    </tr>\n",
       "    <tr>\n",
       "      <td>22221</td>\n",
       "      <td>52838096</td>\n",
       "      <td>11.0</td>\n",
       "      <td>66.0</td>\n",
       "      <td>8.0</td>\n",
       "      <td>B</td>\n",
       "      <td>F</td>\n",
       "      <td>North</td>\n",
       "      <td>N West</td>\n",
       "      <td>Silver</td>\n",
       "      <td>5000.00</td>\n",
       "      <td>...</td>\n",
       "      <td>0</td>\n",
       "      <td>0</td>\n",
       "      <td>0</td>\n",
       "      <td>0</td>\n",
       "      <td>0</td>\n",
       "      <td>2</td>\n",
       "      <td>0</td>\n",
       "      <td>1</td>\n",
       "      <td>0</td>\n",
       "      <td>0</td>\n",
       "    </tr>\n",
       "    <tr>\n",
       "      <td>22222</td>\n",
       "      <td>52856469</td>\n",
       "      <td>3.0</td>\n",
       "      <td>75.0</td>\n",
       "      <td>53.0</td>\n",
       "      <td>F</td>\n",
       "      <td>nan</td>\n",
       "      <td>South West</td>\n",
       "      <td>S West</td>\n",
       "      <td>Gold</td>\n",
       "      <td>6000.00</td>\n",
       "      <td>...</td>\n",
       "      <td>0</td>\n",
       "      <td>1</td>\n",
       "      <td>0</td>\n",
       "      <td>0</td>\n",
       "      <td>0</td>\n",
       "      <td>0</td>\n",
       "      <td>1</td>\n",
       "      <td>0</td>\n",
       "      <td>0</td>\n",
       "      <td>0</td>\n",
       "    </tr>\n",
       "  </tbody>\n",
       "</table>\n",
       "<p>22223 rows × 54 columns</p>\n",
       "</div>"
      ],
      "text/plain": [
       "             ID  DemAffl  DemAge  DemCluster DemClusterGroup DemGender  \\\n",
       "0           140     10.0    76.0        16.0               C         U   \n",
       "1           620      4.0    49.0        35.0               D         U   \n",
       "2           868      5.0    70.0        27.0               D         F   \n",
       "3          1120     10.0    65.0        51.0               F         M   \n",
       "4          2313     11.0    68.0         4.0               A         F   \n",
       "...         ...      ...     ...         ...             ...       ...   \n",
       "22218  52834058     13.0    65.0         9.0               B         F   \n",
       "22219  52834376     15.0    73.0        34.0               D         U   \n",
       "22220  52837057      9.0    70.0        15.0               B         F   \n",
       "22221  52838096     11.0    66.0         8.0               B         F   \n",
       "22222  52856469      3.0    75.0        53.0               F       nan   \n",
       "\n",
       "           DemReg      DemTVReg PromClass  PromSpend  ...  DemTVReg=Ulster  \\\n",
       "0        Midlands  Wales & West      Gold   16000.00  ...                0   \n",
       "1        Midlands  Wales & West      Gold    6000.00  ...                0   \n",
       "2        Midlands  Wales & West    Silver       0.02  ...                0   \n",
       "3        Midlands      Midlands       Tin       0.01  ...                0   \n",
       "4        Midlands      Midlands       Tin       0.01  ...                0   \n",
       "...           ...           ...       ...        ...  ...              ...   \n",
       "22218  South East        London    Silver    1500.00  ...                0   \n",
       "22219  South East    S & S East      Gold    6053.06  ...                0   \n",
       "22220       North     Yorkshire      Gold    6000.00  ...                0   \n",
       "22221       North        N West    Silver    5000.00  ...                0   \n",
       "22222  South West        S West      Gold    6000.00  ...                0   \n",
       "\n",
       "       DemTVReg=S West  DemTVReg=Yorkshire  DemTVReg=Border  DemTVReg=N Scot  \\\n",
       "0                    0                   0                0                0   \n",
       "1                    0                   0                0                0   \n",
       "2                    0                   0                0                0   \n",
       "3                    0                   0                0                0   \n",
       "4                    0                   0                0                0   \n",
       "...                ...                 ...              ...              ...   \n",
       "22218                0                   0                0                0   \n",
       "22219                0                   0                0                0   \n",
       "22220                0                   1                0                0   \n",
       "22221                0                   0                0                0   \n",
       "22222                1                   0                0                0   \n",
       "\n",
       "       PromClassN  PromClass=Gold  PromClass=Silver  PromClass=Tin  \\\n",
       "0               0               1                 0              0   \n",
       "1               0               1                 0              0   \n",
       "2               2               0                 1              0   \n",
       "3               3               0                 0              1   \n",
       "4               3               0                 0              1   \n",
       "...           ...             ...               ...            ...   \n",
       "22218           2               0                 1              0   \n",
       "22219           0               1                 0              0   \n",
       "22220           0               1                 0              0   \n",
       "22221           2               0                 1              0   \n",
       "22222           0               1                 0              0   \n",
       "\n",
       "       PromClass=Platinum  \n",
       "0                       0  \n",
       "1                       0  \n",
       "2                       0  \n",
       "3                       0  \n",
       "4                       0  \n",
       "...                   ...  \n",
       "22218                   0  \n",
       "22219                   0  \n",
       "22220                   0  \n",
       "22221                   0  \n",
       "22222                   0  \n",
       "\n",
       "[22223 rows x 54 columns]"
      ]
     },
     "execution_count": 70,
     "metadata": {},
     "output_type": "execute_result"
    }
   ],
   "source": [
    "categorical_columns = [c for c in df.columns if df[c].dtype.name == 'object']\n",
    "print(categorical_columns)\n",
    "\n",
    "\n",
    "def code_myohe(data, feature):\n",
    "    for i in data[feature].unique():\n",
    "        data[feature + \"=\" + i] = (data[feature] == i).astype(int)\n",
    "        \n",
    "le = LabelEncoder()\n",
    "for c in categorical_columns:\n",
    "    df[c] = df[c].astype(str)\n",
    "    le.fit(df[c])\n",
    "    df[df[c].name +'N'] = le.fit_transform(df[c])\n",
    "    code_myohe(df, c)\n",
    "    \n",
    "df"
   ]
  },
  {
   "cell_type": "code",
   "execution_count": null,
   "metadata": {},
   "outputs": [],
   "source": []
  }
 ],
 "metadata": {
  "kernelspec": {
   "display_name": "Python 3",
   "language": "python",
   "name": "python3"
  },
  "language_info": {
   "codemirror_mode": {
    "name": "ipython",
    "version": 3
   },
   "file_extension": ".py",
   "mimetype": "text/x-python",
   "name": "python",
   "nbconvert_exporter": "python",
   "pygments_lexer": "ipython3",
   "version": "3.7.4"
  }
 },
 "nbformat": 4,
 "nbformat_minor": 2
}
