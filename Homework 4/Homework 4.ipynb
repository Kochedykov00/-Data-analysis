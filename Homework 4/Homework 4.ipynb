{
 "cells": [
  {
   "cell_type": "code",
   "execution_count": 24,
   "metadata": {},
   "outputs": [
    {
     "name": "stdout",
     "output_type": "stream",
     "text": [
      "       DemAffl  DemAge  DemCluster  PromSpend  PromTime\n",
      "0         10.0    76.0        16.0   16000.00       4.0\n",
      "1          4.0    49.0        35.0    6000.00       5.0\n",
      "2          5.0    70.0        27.0       0.02       8.0\n",
      "3         10.0    65.0        51.0       0.01       7.0\n",
      "4         11.0    68.0         4.0       0.01       8.0\n",
      "...        ...     ...         ...        ...       ...\n",
      "22218     13.0    65.0         9.0    1500.00       5.0\n",
      "22219     15.0    73.0        34.0    6053.06      12.0\n",
      "22220      9.0    70.0        15.0    6000.00       5.0\n",
      "22221     11.0    66.0         8.0    5000.00       5.0\n",
      "22222      3.0    75.0        53.0    6000.00       2.0\n",
      "\n",
      "[22223 rows x 5 columns]\n"
     ]
    },
    {
     "data": {
      "text/plain": [
       "DecisionTreeClassifier(class_weight=None, criterion='entropy', max_depth=5,\n",
       "                       max_features=None, max_leaf_nodes=None,\n",
       "                       min_impurity_decrease=0.0, min_impurity_split=None,\n",
       "                       min_samples_leaf=1, min_samples_split=2,\n",
       "                       min_weight_fraction_leaf=0.0, presort=False,\n",
       "                       random_state=0, splitter='best')"
      ]
     },
     "execution_count": 24,
     "metadata": {},
     "output_type": "execute_result"
    }
   ],
   "source": [
    "import pandas as pd\n",
    "import numpy as np\n",
    "import seaborn as sns\n",
    "import itertools\n",
    "import matplotlib.pyplot as plt\n",
    "\n",
    "from sklearn.model_selection import train_test_split\n",
    "from sklearn.metrics import roc_auc_score\n",
    "from sklearn.metrics import roc_curve\n",
    "from sklearn.metrics import balanced_accuracy_score\n",
    "from sklearn.metrics import cohen_kappa_score\n",
    "from sklearn.metrics import matthews_corrcoef\n",
    "from sklearn.metrics import classification_report\n",
    "from sklearn.metrics import confusion_matrix\n",
    "from sklearn.tree import DecisionTreeClassifier\n",
    "import pylab as pl\n",
    "plt.style.use('ggplot')\n",
    "%matplotlib inline\n",
    "import sklearn.metrics as metric\n",
    "from sklearn.linear_model import LogisticRegression\n",
    "\n",
    "df=pd.read_csv('C:/Users/User/Desktop/dataframe/Dataset/ORGANICS.csv',encoding=\"cp1251\")\n",
    "\n",
    "\n",
    "\n",
    "#объекты и несщественные убираем\n",
    "x = df[[c for c in df.columns if df[c].dtype.name != 'object' and c !=\"ID\"and c !=\"TargetBuy\" and c != \"TargetAmt\" ]]\n",
    "print(x)\n",
    "y = df.values[::,11]\n",
    "\n",
    "\n",
    "data = df.drop(columns=['ID', 'TargetAmt'])\n",
    "\n",
    "#замена на медианы и моды \n",
    "data['PromTime'].fillna(data['PromTime'].median(), inplace=True)\n",
    "data['DemCluster'].fillna(data['DemCluster'].median(), inplace=True)\n",
    "data['DemAge'].fillna(data['DemAge'].median(), inplace=True)\n",
    "data['DemAffl'].fillna(data['DemAffl'].median(), inplace=True)\n",
    "\n",
    "data['DemGender'].fillna(data['DemGender'].mode()[0], inplace=True) \n",
    "data['DemClusterGroup'].fillna(data['DemClusterGroup'].mode()[0], inplace=True)\n",
    "data['DemReg'].fillna(data['DemReg'].mode()[0], inplace=True)\n",
    "data['DemTVReg'].fillna(data['DemTVReg'].mode()[0], inplace=True)\n",
    "\n",
    "\n",
    "\n",
    "\n",
    "\n",
    "#Преобразуем категориальные переменные в фиктивные / индикаторные переменные.\n",
    "dummy = pd.get_dummies(data)\n",
    "dummy = dummy[[column for column in dummy if column != 'TargetBuy'] + ['TargetBuy']]\n",
    "\n",
    "\n",
    "\n",
    "\n",
    "x = dummy.iloc[:, :-1].values\n",
    "y = dummy['TargetBuy'].values\n",
    "\n",
    "\n",
    "\n",
    "X_train, X_test, y_train, y_test = train_test_split(x, y, test_size=0.3)\n",
    "\n",
    "y_test = y_test.astype(int)\n",
    "y_train = y_train.astype(int)\n",
    "\n",
    "tree = DecisionTreeClassifier(max_depth=5, criterion = \"entropy\", random_state=0)\n",
    "tree.fit(X_train, y_train)"
   ]
  },
  {
   "cell_type": "code",
   "execution_count": 36,
   "metadata": {},
   "outputs": [
    {
     "name": "stdout",
     "output_type": "stream",
     "text": [
      "[[4809  266]\n",
      " [1008  584]]\n",
      "0.8089095545222739\n",
      "0.36683417085427134\n",
      "0.6870588235294117\n",
      "0.4782964782964783\n",
      "balanced_accuracy_score: 0.6572101888754115\n",
      "cohen_kappa_score: 0.3742817922011219\n",
      "matthews_corrcoef: 0.40192150632003193\n"
     ]
    },
    {
     "data": {
      "image/png": "[encoded data removed]",
      "text/plain": [
       "<Figure size 432x288 with 1 Axes>"
      ]
     },
     "metadata": {
      "needs_background": "light"
     },
     "output_type": "display_data"
    },
    {
     "name": "stdout",
     "output_type": "stream",
     "text": [
      "True Negative Rate: 0.9475862068965517\n",
      "False Positive Rate: 0.05241379310344828\n"
     ]
    }
   ],
   "source": [
    "cm = metric.confusion_matrix(y_test, tree.predict(X_test))\n",
    "\n",
    "print (cm)\n",
    "preds = tree.predict(X_test) \n",
    "\n",
    "print(metric.accuracy_score(y_test, preds))\n",
    "print(metric.recall_score(y_test, preds))\n",
    "print(metric.precision_score(y_test, preds))\n",
    "print(metric.f1_score(y_test, preds))\n",
    "print('balanced_accuracy_score:',metric.balanced_accuracy_score(y_test, preds))\n",
    "print('cohen_kappa_score:',metric.cohen_kappa_score(y_test, preds))\n",
    "print('matthews_corrcoef:',metric.matthews_corrcoef(y_test, preds))\n",
    "\n",
    "\n",
    "pred_prob = tree.predict_proba(X_test)\n",
    "preds = pred_prob[:, -1]\n",
    "roc_auc = metric.auc(fpr, tpr)\n",
    "fpr, tpr, threshold = metric.roc_curve(y_test, preds)\n",
    "\n",
    "\n",
    "#Roc кривая\n",
    "pyp.plot(fpr, tpr, 'green', label='test=%0.2f' % roc_auc)\n",
    "pyp.legend(loc = 'lower right')\n",
    "pyp.plot([0, 1], [0, 1],'r')\n",
    "pyp.xlim([0, 1])\n",
    "pyp.ylim([0, 1])\n",
    "pyp.ylabel('True Negative Rate')\n",
    "pyp.xlabel('False Positive Rate')\n",
    "pyp.show()\n",
    "\n",
    "tn, fp, fn, tp = cm.ravel()\n",
    "TNR = tn / (tn + fp)\n",
    "FPR = fp / (tn + fp)\n",
    "print('True Negative Rate:', TNR)\n",
    "print('False Positive Rate:', FPR)\n"
   ]
  },
  {
   "cell_type": "code",
   "execution_count": 41,
   "metadata": {},
   "outputs": [
    {
     "name": "stdout",
     "output_type": "stream",
     "text": [
      "Unbalanced:\n",
      "              precision    recall  f1-score   support\n",
      "\n",
      "           0       0.83      0.95      0.88      5075\n",
      "           1       0.69      0.37      0.48      1592\n",
      "\n",
      "    accuracy                           0.81      6667\n",
      "   macro avg       0.76      0.66      0.68      6667\n",
      "weighted avg       0.79      0.81      0.79      6667\n",
      "\n",
      "\n",
      "balanced::\n",
      "              precision    recall  f1-score   support\n",
      "\n",
      "           0       0.89      0.77      0.83      5075\n",
      "           1       0.49      0.70      0.57      1592\n",
      "\n",
      "    accuracy                           0.75      6667\n",
      "   macro avg       0.69      0.73      0.70      6667\n",
      "weighted avg       0.79      0.75      0.77      6667\n",
      "\n",
      "Unbalanced:\n",
      "   True Negative Rate: 0.7706403940886699\n",
      "   False Positive Rate: 0.22935960591133006\n",
      "\n",
      "balanced::\n",
      "   True Negative Rate: 0.7706403940886699\n",
      "   False Positive Rate: 0.22935960591133006\n"
     ]
    }
   ],
   "source": [
    "balanced_tree = DecisionTreeClassifier(max_depth=5, criterion = \"entropy\", random_state=0,class_weight='balanced')\n",
    "balanced_tree.fit(X_train, y_train)\n",
    "\n",
    "balanced_preds = balanced_tree.predict(X_test)\n",
    "\n",
    "y_pred = tree.predict(X_test)\n",
    "\n",
    "print('unbalanced:')\n",
    "print(classification_report(y_test, y_pred))\n",
    "print()\n",
    "print('balanced::')\n",
    "print(classification_report(y_test, balanced_preds))\n",
    "\n",
    "print('unbalanced:')\n",
    "print('   True Negative Rate:', TNR)\n",
    "print('   False Positive Rate:', FPR)\n",
    "print()\n",
    "\n",
    "balanced_matrix = confusion_matrix(y_test, balanced_preds)\n",
    "tn, fp, fn, tp = balanced_matrix.ravel()\n",
    "TNR = tn / (tn + fp)\n",
    "FPR = fp / (tn + fp)\n",
    "print('balanced:')\n",
    "print('   True Negative Rate:', TNR)\n",
    "print('   False Positive Rate:', FPR)"
   ]
  },
  {
   "cell_type": "code",
   "execution_count": null,
   "metadata": {},
   "outputs": [],
   "source": [
    "print('unbalanced set:')\n",
    "print('   Коэффициент Мэттьюса:', matthews_corrcoef(y_test, y_pred))\n",
    "print('unbalanced set:')\n",
    "print('   Коэффициент Мэттьюса:', matthews_corrcoef(y_test, balanced_preds))\n",
    "print()\n",
    "print('unbalanced set:')\n",
    "print(' cohen_kappa_score:', cohen_kappa_score(y_test, y_pred))\n",
    "print('balanced set:')\n",
    "print(' cohen_kappa_score:', cohen_kappa_score(y_test, balanced_preds))\n",
    "print()\n",
    "print('unbalanced set::')\n",
    "print(' unbalanced accuracy  :', balanced_accuracy_score(y_test, y_pred))\n",
    "print('balanced set:')\n",
    "print(' unbalanced accuracy:', balanced_accuracy_score(y_test, balanced_preds))"
   ]
  }
 ],
 "metadata": {
  "kernelspec": {
   "display_name": "Python 3",
   "language": "python",
   "name": "python3"
  },
  "language_info": {
   "codemirror_mode": {
    "name": "ipython",
    "version": 3
   },
   "file_extension": ".py",
   "mimetype": "text/x-python",
   "name": "python",
   "nbconvert_exporter": "python",
   "pygments_lexer": "ipython3",
   "version": "3.7.4"
  }
 },
 "nbformat": 4,
 "nbformat_minor": 2
}
